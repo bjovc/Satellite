{
 "cells": [
  {
   "cell_type": "code",
   "execution_count": 1,
   "metadata": {},
   "outputs": [],
   "source": [
    "import os\n",
    "import openeo\n",
    "import calendar\n",
    "import numpy as np\n",
    "import xarray as xr\n",
    "import pandas as pd"
   ]
  },
  {
   "cell_type": "code",
   "execution_count": 2,
   "metadata": {},
   "outputs": [
    {
     "name": "stdout",
     "output_type": "stream",
     "text": [
      "Authenticated using refresh token.\n",
      "DataCube(<PGNode 'load_collection' at 0x78869ba88b80>)\n"
     ]
    }
   ],
   "source": [
    "# Connection and authentication\n",
    "con = openeo.connect(\"openeo.dataspace.copernicus.eu\")\n",
    "con.authenticate_oidc()\n",
    "\n",
    "# Definition of the region \n",
    "spatial_extent = {\"west\": -6.2239, \"south\": 42.2967, \"east\": -6.1679, \"north\": 42.3367 ,\"crs\": \"EPSG:4326\",} # mini tabuyo\n",
    "year = '2023'\n",
    "\n",
    "os.makedirs(year, exist_ok=True)\n",
    "\n",
    "temporal_extent = [year+\"-01-01\", year+\"-12-31\"]\n",
    "datacube = con.load_collection(\n",
    "    \"SENTINEL2_L2A\",\n",
    "    spatial_extent=spatial_extent,\n",
    "    temporal_extent=temporal_extent,\n",
    "    max_cloud_cover=10,\n",
    "    bands=[\"B04\", \"B03\", \"B02\", \"B08\", \"SCL\"],\n",
    ")\n",
    "\n",
    "print(datacube)\n",
    "#nc_path = f\"{year}/sentinel2_{year}.nc\"\n",
    "nc_path = f\"datacubes/tabuyo/{year}/mini/sentinel2_mini_{year}.nc\"\n",
    "datacube.download(nc_path)\n"
   ]
  },
  {
   "cell_type": "markdown",
   "metadata": {},
   "source": [
    "### Code for downloading the netCDF (.nc) files by month"
   ]
  },
  {
   "cell_type": "code",
   "execution_count": 8,
   "metadata": {},
   "outputs": [
    {
     "name": "stdout",
     "output_type": "stream",
     "text": [
      "Month:  1\n",
      "Month:  2\n",
      "Month:  3\n",
      "Month:  4\n",
      "Month:  5\n"
     ]
    }
   ],
   "source": [
    "def download_and_plot_monthly_data(year):\n",
    "\n",
    "    for month in range(1, 13):  # January to December\n",
    "        print('Month: ',month)\n",
    "        month_str = str(month).zfill(2)  # Zero-padding the month to ensure two digits\n",
    "        num_days = calendar.monthrange(year, month)[1]  # Get the number of days in the month\n",
    "        start_date = f\"{year}-{month_str}-01\"\n",
    "        end_date = f\"{year}-{month_str}-{num_days}\"\n",
    "        \n",
    "        month_datacube = datacube.filter_temporal(start_date, end_date)\n",
    "\n",
    "        #nc_path = f\"{year}/sentinel2_{year}-{month_str}.nc\"\n",
    "        nc_path = f\"datacubes/tabuyo/{year}/mini/sentinel2_mini_{year}-{month_str}.nc\"\n",
    "        month_datacube.download(nc_path)\n",
    "\n",
    "        '''\n",
    "        # Show the first and last images of the month\n",
    "        ds = xarray.load_dataset(nc_path)\n",
    "        data = ds[[\"B04\", \"B03\", \"B02\"]].to_array(dim=\"bands\")\n",
    "        \n",
    "        fig, axes = plt.subplots(ncols=2, figsize=(8, 3), dpi=300, sharey=True)\n",
    "        data[{\"t\": 0}].plot.imshow(vmin=0, vmax=2000, ax=axes[0])\n",
    "        data[{\"t\": -1}].plot.imshow(vmin=0, vmax=2000, ax=axes[1])\n",
    "        \n",
    "        plt.show()\n",
    "        '''\n",
    "        if month==5:\n",
    "            break\n",
    "        \n",
    "download_and_plot_monthly_data(int(year))\n"
   ]
  },
  {
   "cell_type": "markdown",
   "metadata": {},
   "source": [
    "### Code for downloading the geoTiff (.tif) file for each day of the year that meets the requirements"
   ]
  },
  {
   "cell_type": "code",
   "execution_count": 10,
   "metadata": {},
   "outputs": [
    {
     "name": "stderr",
     "output_type": "stream",
     "text": [
      "/tmp/ipykernel_9961/3846078461.py:23: FutureWarning: The return type of `Dataset.dims` will be changed to return a set of dimension names in future, in order to be more consistent with `DataArray.dims`. To access a mapping from dimension names to lengths, please use `Dataset.sizes`.\n",
      "  'width': ds.dims['x'],\n",
      "/tmp/ipykernel_9961/3846078461.py:24: FutureWarning: The return type of `Dataset.dims` will be changed to return a set of dimension names in future, in order to be more consistent with `DataArray.dims`. To access a mapping from dimension names to lengths, please use `Dataset.sizes`.\n",
      "  'height': ds.dims['y'],\n",
      "/home/bea/.local/lib/python3.10/site-packages/numpy/core/_asarray.py:126: RuntimeWarning: invalid value encountered in cast\n",
      "  arr = array(a, dtype=dtype, order=order, copy=False, subok=subok)\n"
     ]
    }
   ],
   "source": [
    "import rasterio\n",
    "from rasterio.enums import Resampling\n",
    "from rasterio.transform import from_origin, Affine\n",
    "\n",
    "def save_to_tif(ds, output_dir):\n",
    "    for time in ds.t:\n",
    "        date = pd.to_datetime(time.values)\n",
    "        date_str = date.strftime('%Y-%m-%d')\n",
    "        filename = os.path.join(output_dir, f\"{date_str}.tif\")\n",
    "\n",
    "        # Select the bands for red, green, and blue channels\n",
    "        red = ds.sel(t=time)['B04']\n",
    "        green = ds.sel(t=time)['B03']\n",
    "        blue = ds.sel(t=time)['B02']\n",
    "\n",
    "        # Stack the bands into an RGB image\n",
    "        rgb_image = np.stack([red, green, blue], axis=-1)\n",
    "\n",
    "        profile = {\n",
    "            'driver': 'GTiff',\n",
    "            'count': 3,\n",
    "            'dtype': 'int16',\n",
    "            'width': ds.dims['x'],\n",
    "            'height': ds.dims['y'],\n",
    "            'crs': 'EPSG:32629', #\"EPSG:4326\",\n",
    "            #'transform': from_origin(float(ds.x.min()), float(ds.y.max()), float(ds.x[1] - ds.x[0]), float(ds.y[1] - ds.y[0])),\n",
    "            #'transform': from_origin(726460.0, 4693660.0, 10, 10), # ESTO SOLO VALE PARA TABUYO\n",
    "            'transform': from_origin(728705.0, 4691045.0, 10, 10), # ESTO SOLO VALE PARA MINI TABUYO\n",
    "        }\n",
    "        \n",
    "        with rasterio.open(filename, 'w', **profile) as dst:\n",
    "            dst.write(rgb_image.transpose(2, 0, 1))\n",
    "\n",
    "output_dir = f\"datacubes/tabuyo/{year}/mini\"\n",
    "os.makedirs(output_dir, exist_ok=True)\n",
    "ds = xr.open_dataset(f\"datacubes/tabuyo/{year}/mini/sentinel2_mini_{year}.nc\")\n",
    "\n",
    "save_to_tif(ds, output_dir)\n"
   ]
  }
 ],
 "metadata": {
  "kernelspec": {
   "display_name": "Python 3",
   "language": "python",
   "name": "python3"
  },
  "language_info": {
   "codemirror_mode": {
    "name": "ipython",
    "version": 3
   },
   "file_extension": ".py",
   "mimetype": "text/x-python",
   "name": "python",
   "nbconvert_exporter": "python",
   "pygments_lexer": "ipython3",
   "version": "3.10.12"
  }
 },
 "nbformat": 4,
 "nbformat_minor": 2
}
